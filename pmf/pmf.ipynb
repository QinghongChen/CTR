{
 "cells": [
  {
   "cell_type": "code",
   "execution_count": 5,
   "metadata": {},
   "outputs": [
    {
     "name": "stdout",
     "output_type": "stream",
     "text": [
      "Populating the interactive namespace from numpy and matplotlib\n",
      "0.0\n",
      "1.0\n",
      "2.0\n",
      "3.0\n",
      "4.0\n",
      "0.9240790698185528\n"
     ]
    },
    {
     "data": {
      "image/png": "[encoded data removed]",
      "text/plain": [
       "<Figure size 432x288 with 1 Axes>"
      ]
     },
     "metadata": {
      "needs_background": "light"
     },
     "output_type": "display_data"
    },
    {
     "data": {
      "image/png": "[encoded data removed]",
      "text/plain": [
       "<Figure size 432x288 with 1 Axes>"
      ]
     },
     "metadata": {
      "needs_background": "light"
     },
     "output_type": "display_data"
    }
   ],
   "source": [
    "from pylab import *\n",
    "import numpy as np\n",
    "import random\n",
    "import math\n",
    "%pylab inline\n",
    "\n",
    "def SGD(train,test,N,M,eta,K,lambda_1,lambda_2,Step):\n",
    "    # train: train data\n",
    "    # test: test data\n",
    "    # N:the number of user\n",
    "    # M:the number of item\n",
    "    # eta: the learning rata\n",
    "    # K: the number of latent factor\n",
    "    # lambda_1,lambda_2: regularization parameters\n",
    "    # Step: the max iteration\n",
    "    U = np.random.normal(0, 0.1, (N, K))\n",
    "    V = np.random.normal(0, 0.1, (M, K))\n",
    "    L=1000.0\n",
    "    rmse=[]\n",
    "    loss=[]\n",
    "    for ste in range(Step):\n",
    "        los=0.0\n",
    "        for data in train:\n",
    "            u=data[0]\n",
    "            i=data[1]\n",
    "            r=data[2]\n",
    "\n",
    "            e=r-np.dot(U[u],V[i].T)            \n",
    "            U[u]=U[u]+eta*(e*V[i]-lambda_1*U[u])\n",
    "            V[i]=V[i]+eta*(e*U[u]-lambda_2*V[i])\n",
    "\n",
    "            los=los+0.5*(e**2+lambda_1*np.square(U[u]).sum()+lambda_2*np.square(V[i]).sum())\n",
    "        loss.append(los)\n",
    "        rms=RMSE(U,V,test)\n",
    "        rmse.append(rms)\n",
    "        if los<L:\n",
    "            break\n",
    "        if ste%10==0:\n",
    "            print(ste/10)\n",
    "    return loss,rmse,U,V\n",
    "\n",
    "           \n",
    "def RMSE(U,V,test):\n",
    "    count=len(test)\n",
    "    sum_rmse=0.0\n",
    "    for t in test:\n",
    "        u=t[0]\n",
    "        i=t[1]\n",
    "        r=t[2]\n",
    "        pr=np.dot(U[u],V[i].T)\n",
    "        sum_rmse+=np.square(r-pr)\n",
    "    rmse=np.sqrt(sum_rmse/count)\n",
    "    return rmse\n",
    "\n",
    "\n",
    "def Load_data(filedir,ratio):\n",
    "    user_set={}\n",
    "    item_set={}\n",
    "    N=0;#the number of user\n",
    "    M=0;#the number of item\n",
    "    u_idx=0\n",
    "    i_idx=0\n",
    "    data=[]\n",
    "    f = open(filedir)\n",
    "    for line in f.readlines():\n",
    "        u,i,r,t=line.split()\n",
    "        if int(u) not in user_set:\n",
    "            user_set[int(u)]=u_idx\n",
    "            u_idx+=1\n",
    "        if int(i) not in item_set:\n",
    "            item_set[int(i)]=i_idx\n",
    "            i_idx+=1\n",
    "        data.append([user_set[int(u)],item_set[int(i)],int(r)])\n",
    "    f.close()\n",
    "    N=u_idx;\n",
    "    M=i_idx;\n",
    "\n",
    "    np.random.shuffle(data)\n",
    "    train=data[0:int(len(data)*ratio)]\n",
    "    test=data[int(len(data)*ratio):]\n",
    "    return N,M,train,test\n",
    "\n",
    "\n",
    "def Figure(loss,rmse):\n",
    "    fig1=plt.figure('LOSS')\n",
    "    x = range(len(loss))\n",
    "    plot(x, loss, color='g',linewidth=3)\n",
    "    plt.title('Convergence curve')\n",
    "    plt.xlabel('Iterations')\n",
    "    plt.ylabel('Loss')\n",
    "\n",
    "    fig2=plt.figure('RMSE')\n",
    "    x = range(len(rmse))\n",
    "    plot(x, rmse, color='r',linewidth=3)\n",
    "    plt.title('Convergence curve')\n",
    "    plt.xlabel('Iterations')\n",
    "    plt.ylabel('RMSE')\n",
    "    show()\n",
    "\n",
    "#----------------------------SELF TEST----------------------------#\n",
    "\n",
    "dir_data=\"./u.data\"\n",
    "ratio=0.8\n",
    "N,M,train,test=Load_data(dir_data,ratio)\n",
    "\n",
    "eta=0.005\n",
    "K=10\n",
    "lambda_1=0.1\n",
    "lambda_2=0.1\n",
    "Step=50\n",
    "loss,rmse,U,V=SGD(train,test,N,M,eta,K,lambda_1,lambda_2,Step)\n",
    "print(rmse[-1])\n",
    "Figure(loss,rmse)"
   ]
  },
  {
   "cell_type": "code",
   "execution_count": 6,
   "metadata": {},
   "outputs": [],
   "source": [
    "Rhat = np.dot(U,V.T)"
   ]
  },
  {
   "cell_type": "code",
   "execution_count": 10,
   "metadata": {},
   "outputs": [
    {
     "data": {
      "text/plain": [
       "(943, 1682)"
      ]
     },
     "execution_count": 10,
     "metadata": {},
     "output_type": "execute_result"
    }
   ],
   "source": [
    "Rhat.shape"
   ]
  },
  {
   "cell_type": "code",
   "execution_count": 11,
   "metadata": {},
   "outputs": [
    {
     "data": {
      "text/plain": [
       "943"
      ]
     },
     "execution_count": 11,
     "metadata": {},
     "output_type": "execute_result"
    }
   ],
   "source": [
    "N"
   ]
  },
  {
   "cell_type": "code",
   "execution_count": 12,
   "metadata": {},
   "outputs": [
    {
     "data": {
      "text/plain": [
       "1682"
      ]
     },
     "execution_count": 12,
     "metadata": {},
     "output_type": "execute_result"
    }
   ],
   "source": [
    "M"
   ]
  }
 ],
 "metadata": {
  "kernelspec": {
   "display_name": "Python 3",
   "language": "python",
   "name": "python3"
  },
  "language_info": {
   "codemirror_mode": {
    "name": "ipython",
    "version": 3
   },
   "file_extension": ".py",
   "mimetype": "text/x-python",
   "name": "python",
   "nbconvert_exporter": "python",
   "pygments_lexer": "ipython3",
   "version": "3.7.3"
  }
 },
 "nbformat": 4,
 "nbformat_minor": 2
}
